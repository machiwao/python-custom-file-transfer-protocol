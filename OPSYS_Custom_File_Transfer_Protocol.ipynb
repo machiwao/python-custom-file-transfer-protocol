{
  "nbformat": 4,
  "nbformat_minor": 0,
  "metadata": {
    "colab": {
      "provenance": [],
      "authorship_tag": "ABX9TyMfW3j3W1UFPio/lVzJfGbf",
      "include_colab_link": true
    },
    "kernelspec": {
      "name": "python3",
      "display_name": "Python 3"
    },
    "language_info": {
      "name": "python"
    }
  },
  "cells": [
    {
      "cell_type": "markdown",
      "metadata": {
        "id": "view-in-github",
        "colab_type": "text"
      },
      "source": [
        "<a href=\"https://colab.research.google.com/github/machiwao/python-custom-file-transfer-protocol/blob/main/OPSYS_Custom_File_Transfer_Protocol.ipynb\" target=\"_parent\"><img src=\"https://colab.research.google.com/assets/colab-badge.svg\" alt=\"Open In Colab\"/></a>"
      ]
    },
    {
      "cell_type": "markdown",
      "source": [
        "Prompt: Networking: Develop a simple file transfer protocol using sockets in Python allowing users to transfer files between two computers over a network and handling connection issues\n",
        "\n",
        "To create a simple file transfer protocol using sockets in Python, you can build both a server and a client script to send files between two computers. The server will listen for incoming connections and handle file reception, while the client will connect to the server and send a file.\n",
        "\n",
        "Here’s an implementation that handles basic connection issues as well."
      ],
      "metadata": {
        "id": "kW9ZyXV5cJ5k"
      }
    },
    {
      "cell_type": "markdown",
      "source": [
        "# Server Side"
      ],
      "metadata": {
        "id": "h8UbZuoFborn"
      }
    },
    {
      "cell_type": "code",
      "source": [
        "import socket\n",
        "import os\n",
        "\n",
        "# Server-side parameters\n",
        "SERVER_HOST = '0.0.0.0'  # Listen on all network interfaces\n",
        "SERVER_PORT = 5001        # Arbitrary non-privileged port\n",
        "BUFFER_SIZE = 4096        # Size of the data chunk to be received\n",
        "SEPARATOR = \"<SEPARATOR>\" # Separator to distinguish between filename and file data\n",
        "\n",
        "def start_server():\n",
        "    # Create server socket (TCP)\n",
        "    server_socket = socket.socket(socket.AF_INET, socket.SOCK_STREAM)\n",
        "    server_socket.bind((SERVER_HOST, SERVER_PORT))\n",
        "    server_socket.listen(5)\n",
        "    print(f\"[*] Listening on {SERVER_HOST}:{SERVER_PORT}\")\n",
        "\n",
        "    # Accept incoming connection\n",
        "    client_socket, client_address = server_socket.accept()\n",
        "    print(f\"[+] {client_address} connected.\")\n",
        "\n",
        "    try:\n",
        "        # Receive the file information\n",
        "        received = client_socket.recv(BUFFER_SIZE).decode()\n",
        "        filename, filesize = received.split(SEPARATOR)\n",
        "        filename = os.path.basename(filename)\n",
        "        filesize = int(filesize)\n",
        "\n",
        "        print(f\"[*] Receiving file: {filename}, Size: {filesize} bytes\")\n",
        "\n",
        "        # Open file for writing\n",
        "        with open(filename, \"wb\") as file:\n",
        "            total_received = 0\n",
        "            while total_received < filesize:\n",
        "                bytes_read = client_socket.recv(BUFFER_SIZE)\n",
        "                if not bytes_read:\n",
        "                    # If no more data, break the loop\n",
        "                    break\n",
        "                file.write(bytes_read)\n",
        "                total_received += len(bytes_read)\n",
        "                print(f\"[*] Received {total_received}/{filesize} bytes\")\n",
        "\n",
        "        print(f\"[+] File {filename} received successfully.\")\n",
        "    except Exception as e:\n",
        "        print(f\"[!] Error during file transfer: {e}\")\n",
        "    finally:\n",
        "        client_socket.close()\n",
        "        server_socket.close()\n",
        "        print(\"[*] Connection closed.\")\n",
        "\n",
        "if __name__ == \"__main__\":\n",
        "    start_server()"
      ],
      "metadata": {
        "id": "O1p8dwaHboWZ"
      },
      "execution_count": null,
      "outputs": []
    },
    {
      "cell_type": "markdown",
      "source": [
        "# Client Side"
      ],
      "metadata": {
        "id": "9YhUtOhucegq"
      }
    },
    {
      "cell_type": "code",
      "execution_count": null,
      "metadata": {
        "id": "cmpZtqvmbCGS"
      },
      "outputs": [],
      "source": [
        "import socket\n",
        "import os\n",
        "\n",
        "# Client-side parameters\n",
        "SERVER_HOST = '127.0.0.1'  # Replace with the server's IP address\n",
        "SERVER_PORT = 5001         # Same as the server\n",
        "BUFFER_SIZE = 4096\n",
        "SEPARATOR = \"<SEPARATOR>\"\n",
        "\n",
        "def send_file(filename):\n",
        "    # Get the file size\n",
        "    filesize = os.path.getsize(filename)\n",
        "\n",
        "    # Create client socket (TCP)\n",
        "    client_socket = socket.socket(socket.AF_INET, socket.SOCK_STREAM)\n",
        "\n",
        "    print(f\"[*] Connecting to {SERVER_HOST}:{SERVER_PORT}\")\n",
        "\n",
        "    try:\n",
        "        # Connect to the server\n",
        "        client_socket.connect((SERVER_HOST, SERVER_PORT))\n",
        "        print(f\"[+] Connected to {SERVER_HOST}:{SERVER_PORT}\")\n",
        "\n",
        "        # Send filename and filesize to the server\n",
        "        client_socket.send(f\"{filename}{SEPARATOR}{filesize}\".encode())\n",
        "\n",
        "        # Send the file in chunks\n",
        "        with open(filename, \"rb\") as file:\n",
        "            while True:\n",
        "                # Read the bytes from the file\n",
        "                bytes_read = file.read(BUFFER_SIZE)\n",
        "                if not bytes_read:\n",
        "                    # File transmission is done\n",
        "                    break\n",
        "                # Send the chunk to the server\n",
        "                client_socket.sendall(bytes_read)\n",
        "\n",
        "        print(f\"[+] File {filename} sent successfully.\")\n",
        "    except Exception as e:\n",
        "        print(f\"[!] Error during file transfer: {e}\")\n",
        "    finally:\n",
        "        client_socket.close()\n",
        "        print(\"[*] Connection closed.\")\n",
        "\n",
        "if __name__ == \"__main__\":\n",
        "    filename = \"path_to_your_file.txt\"  # Replace with the actual file path\n",
        "    send_file(filename)\n"
      ]
    },
    {
      "cell_type": "markdown",
      "source": [
        "Explanation:\n",
        "\n",
        "Server:\n",
        "\n",
        "Listens on a specified host and port.\n",
        "\n",
        "Accepts connections from clients.\n",
        "\n",
        "Receives the file's name and size, followed by the file data in chunks.\n",
        "\n",
        "Saves the received file to the server's local directory.\n",
        "\n",
        "Client:\n",
        "\n",
        "Connects to the server.\n",
        "\n",
        "Sends the file's name and size first, followed by the actual file in chunks.\n",
        "\n",
        "Automatically reads the file and transmits it until done.\n",
        "\n",
        "\n",
        "Handling Connection Issues:\n",
        "\n",
        "Timeouts: You can set timeouts for socket operations using socket.settimeout(time_in_seconds).\n",
        "\n",
        "Error Handling: Try-except blocks are used to catch connection issues such as refusal, disconnections, or file transmission errors.\n",
        "\n",
        "Graceful Closing: Sockets are closed properly whether the transfer was successful or failed.\n",
        "\n",
        "This solution enables simple file transfer between two computers. You can test it by running the server on one machine and the client on another, making sure they are on the same network."
      ],
      "metadata": {
        "id": "birdv-W6cjUz"
      }
    }
  ]
}